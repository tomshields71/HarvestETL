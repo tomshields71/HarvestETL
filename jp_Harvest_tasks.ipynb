{
 "cells": [
  {
   "cell_type": "code",
   "execution_count": 1,
   "id": "38ec6395",
   "metadata": {},
   "outputs": [],
   "source": [
    "\n",
    "import json\n",
    "import urllib.request\n",
    "from p_config import HARVEST_ACCOUNT_ID, ACCESS_TOKEN\n",
    "import pandas as pd"
   ]
  },
  {
   "cell_type": "code",
   "execution_count": 2,
   "id": "315dc66a",
   "metadata": {},
   "outputs": [],
   "source": [
    "url = \"https://api.harvestapp.com/v2/tasks\"\n",
    "headers = {\n",
    "    \"User-Agent\": \"Python Harvest API Sample\",\n",
    "    \"Authorization\": \"Bearer \" + ACCESS_TOKEN,\n",
    "    \"Harvest-Account-ID\": HARVEST_ACCOUNT_ID\n",
    "}"
   ]
  },
  {
   "cell_type": "code",
   "execution_count": 3,
   "id": "134f85e2",
   "metadata": {},
   "outputs": [],
   "source": [
    "request = urllib.request.Request(url=url, headers=headers)\n",
    "response = urllib.request.urlopen(request, timeout=5)\n",
    "responseBody = response.read().decode(\"utf-8\")\n",
    "jsonResponse = json.loads(responseBody)"
   ]
  },
  {
   "cell_type": "code",
   "execution_count": 4,
   "id": "f693f5a5",
   "metadata": {},
   "outputs": [],
   "source": [
    "proj_data = jsonResponse['tasks']\n",
    "\n",
    "\n",
    "df = pd.DataFrame()\n",
    "\n",
    "for d in proj_data:\n",
    "    df = pd.concat([df, pd.DataFrame(d, index=[0])])\n",
    "\n"
   ]
  },
  {
   "cell_type": "code",
   "execution_count": 5,
   "id": "3f3db26f",
   "metadata": {},
   "outputs": [
    {
     "name": "stdout",
     "output_type": "stream",
     "text": [
      "<class 'pandas.core.frame.DataFrame'>\n",
      "Int64Index: 32 entries, 0 to 0\n",
      "Data columns (total 8 columns):\n",
      " #   Column               Non-Null Count  Dtype \n",
      "---  ------               --------------  ----- \n",
      " 0   id                   32 non-null     int64 \n",
      " 1   name                 32 non-null     object\n",
      " 2   billable_by_default  32 non-null     bool  \n",
      " 3   default_hourly_rate  0 non-null      object\n",
      " 4   is_default           32 non-null     bool  \n",
      " 5   is_active            32 non-null     bool  \n",
      " 6   created_at           32 non-null     object\n",
      " 7   updated_at           32 non-null     object\n",
      "dtypes: bool(3), int64(1), object(4)\n",
      "memory usage: 1.6+ KB\n"
     ]
    }
   ],
   "source": [
    "df.info()"
   ]
  },
  {
   "cell_type": "code",
   "execution_count": null,
   "id": "44f963d9",
   "metadata": {},
   "outputs": [],
   "source": []
  }
 ],
 "metadata": {
  "kernelspec": {
   "display_name": "Python 3 (ipykernel)",
   "language": "python",
   "name": "python3"
  },
  "language_info": {
   "codemirror_mode": {
    "name": "ipython",
    "version": 3
   },
   "file_extension": ".py",
   "mimetype": "text/x-python",
   "name": "python",
   "nbconvert_exporter": "python",
   "pygments_lexer": "ipython3",
   "version": "3.9.7"
  }
 },
 "nbformat": 4,
 "nbformat_minor": 5
}
