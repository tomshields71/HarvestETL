{
 "cells": [
  {
   "cell_type": "code",
   "execution_count": 1,
   "id": "f30fa9dc",
   "metadata": {},
   "outputs": [],
   "source": [
    "\n",
    "import json\n",
    "import urllib.request\n",
    "from p_config import HARVEST_ACCOUNT_ID, ACCESS_TOKEN\n",
    "import pandas as pd\n"
   ]
  },
  {
   "cell_type": "code",
   "execution_count": 2,
   "id": "22467059",
   "metadata": {},
   "outputs": [],
   "source": [
    "url_address = \"https://api.harvestapp.com/v2/time_entries\"  \n",
    "headers = {\n",
    "    \"User-Agent\": \"Python Harvest API Sample\",\n",
    "    \"Authorization\": \"Bearer \" + ACCESS_TOKEN,\n",
    "    \"Harvest-Account-ID\": HARVEST_ACCOUNT_ID\n",
    "}\n"
   ]
  },
  {
   "cell_type": "code",
   "execution_count": 3,
   "id": "3a795099",
   "metadata": {},
   "outputs": [],
   "source": [
    "\n",
    "request = urllib.request.Request(url=url_address, headers=headers)\n",
    "response = urllib.request.urlopen(request, timeout=5)\n",
    "responseBody = response.read().decode(\"utf-8\")\n",
    "jsonResponse = json.loads(responseBody)"
   ]
  },
  {
   "cell_type": "code",
   "execution_count": 4,
   "id": "12364101",
   "metadata": {},
   "outputs": [],
   "source": [
    "proj_data = jsonResponse['time_entries']\n",
    "\n",
    "\n",
    "df = pd.DataFrame()\n",
    "\n",
    "for d in proj_data:\n",
    "    df = pd.concat([df, pd.DataFrame(d)])"
   ]
  },
  {
   "cell_type": "code",
   "execution_count": 5,
   "id": "d12c68fd",
   "metadata": {},
   "outputs": [],
   "source": [
    "df = df[df.index =='id']"
   ]
  },
  {
   "cell_type": "code",
   "execution_count": 6,
   "id": "abcb4806",
   "metadata": {},
   "outputs": [],
   "source": [
    "df = df.replace(',','', regex=True)"
   ]
  },
  {
   "cell_type": "code",
   "execution_count": null,
   "id": "d18f0e3d",
   "metadata": {},
   "outputs": [],
   "source": []
  },
  {
   "cell_type": "code",
   "execution_count": 7,
   "id": "62cd2da3",
   "metadata": {},
   "outputs": [
    {
     "name": "stdout",
     "output_type": "stream",
     "text": [
      "<class 'pandas.core.frame.DataFrame'>\n",
      "Index: 2000 entries, id to id\n",
      "Data columns (total 28 columns):\n",
      " #   Column               Non-Null Count  Dtype  \n",
      "---  ------               --------------  -----  \n",
      " 0   id                   2000 non-null   int64  \n",
      " 1   spent_date           2000 non-null   object \n",
      " 2   hours                2000 non-null   float64\n",
      " 3   hours_without_timer  2000 non-null   float64\n",
      " 4   rounded_hours        2000 non-null   float64\n",
      " 5   notes                2000 non-null   object \n",
      " 6   is_locked            2000 non-null   bool   \n",
      " 7   locked_reason        0 non-null      object \n",
      " 8   is_closed            2000 non-null   bool   \n",
      " 9   is_billed            2000 non-null   bool   \n",
      " 10  timer_started_at     3 non-null      object \n",
      " 11  started_time         3 non-null      object \n",
      " 12  ended_time           0 non-null      object \n",
      " 13  is_running           2000 non-null   bool   \n",
      " 14  billable             2000 non-null   bool   \n",
      " 15  budgeted             2000 non-null   bool   \n",
      " 16  billable_rate        0 non-null      object \n",
      " 17  cost_rate            0 non-null      object \n",
      " 18  created_at           2000 non-null   object \n",
      " 19  updated_at           2000 non-null   object \n",
      " 20  user                 2000 non-null   object \n",
      " 21  client               2000 non-null   object \n",
      " 22  project              2000 non-null   object \n",
      " 23  task                 2000 non-null   object \n",
      " 24  user_assignment      2000 non-null   object \n",
      " 25  task_assignment      2000 non-null   object \n",
      " 26  invoice              0 non-null      object \n",
      " 27  external_reference   0 non-null      object \n",
      "dtypes: bool(6), float64(3), int64(1), object(18)\n",
      "memory usage: 371.1+ KB\n"
     ]
    }
   ],
   "source": [
    "df.info()"
   ]
  },
  {
   "cell_type": "code",
   "execution_count": null,
   "id": "e139bfe1",
   "metadata": {},
   "outputs": [],
   "source": []
  },
  {
   "cell_type": "code",
   "execution_count": null,
   "id": "9e2a8914",
   "metadata": {},
   "outputs": [],
   "source": []
  }
 ],
 "metadata": {
  "kernelspec": {
   "display_name": "Python 3 (ipykernel)",
   "language": "python",
   "name": "python3"
  },
  "language_info": {
   "codemirror_mode": {
    "name": "ipython",
    "version": 3
   },
   "file_extension": ".py",
   "mimetype": "text/x-python",
   "name": "python",
   "nbconvert_exporter": "python",
   "pygments_lexer": "ipython3",
   "version": "3.9.7"
  }
 },
 "nbformat": 4,
 "nbformat_minor": 5
}
