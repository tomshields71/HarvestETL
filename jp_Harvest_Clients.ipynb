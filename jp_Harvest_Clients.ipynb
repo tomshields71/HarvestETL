{
 "cells": [
  {
   "cell_type": "code",
   "execution_count": 9,
   "id": "38ec6395",
   "metadata": {},
   "outputs": [],
   "source": [
    "\n",
    "import json\n",
    "import urllib.request\n",
    "from p_config import HARVEST_ACCOUNT_ID, ACCESS_TOKEN\n",
    "import pandas as pd"
   ]
  },
  {
   "cell_type": "code",
   "execution_count": 10,
   "id": "315dc66a",
   "metadata": {},
   "outputs": [],
   "source": [
    "url = \"https://api.harvestapp.com/v2/clients\"\n",
    "headers = {\n",
    "    \"User-Agent\": \"Python Harvest API Sample\",\n",
    "    \"Authorization\": \"Bearer \" + ACCESS_TOKEN,\n",
    "    \"Harvest-Account-ID\": HARVEST_ACCOUNT_ID\n",
    "}"
   ]
  },
  {
   "cell_type": "code",
   "execution_count": 11,
   "id": "134f85e2",
   "metadata": {},
   "outputs": [],
   "source": [
    "request = urllib.request.Request(url=url, headers=headers)\n",
    "response = urllib.request.urlopen(request, timeout=5)\n",
    "responseBody = response.read().decode(\"utf-8\")\n",
    "jsonResponse = json.loads(responseBody)"
   ]
  },
  {
   "cell_type": "code",
   "execution_count": 12,
   "id": "f693f5a5",
   "metadata": {},
   "outputs": [],
   "source": [
    "proj_data = jsonResponse['clients']\n",
    "\n",
    "\n",
    "df = pd.DataFrame()\n",
    "\n",
    "for d in proj_data:\n",
    "    df = pd.concat([df, pd.DataFrame(d, index=[0])])\n",
    "\n"
   ]
  },
  {
   "cell_type": "code",
   "execution_count": 13,
   "id": "579bea58",
   "metadata": {},
   "outputs": [],
   "source": [
    "#df = df[df.index =='id']\n",
    "df = df.replace(',','', regex=True)"
   ]
  },
  {
   "cell_type": "code",
   "execution_count": null,
   "id": "1a71e69f",
   "metadata": {},
   "outputs": [],
   "source": []
  },
  {
   "cell_type": "code",
   "execution_count": 15,
   "id": "3f3db26f",
   "metadata": {},
   "outputs": [
    {
     "name": "stdout",
     "output_type": "stream",
     "text": [
      "<class 'pandas.core.frame.DataFrame'>\n",
      "Int64Index: 1990 entries, 0 to 0\n",
      "Data columns (total 8 columns):\n",
      " #   Column         Non-Null Count  Dtype \n",
      "---  ------         --------------  ----- \n",
      " 0   id             1990 non-null   int64 \n",
      " 1   name           1990 non-null   object\n",
      " 2   is_active      1990 non-null   bool  \n",
      " 3   address        1876 non-null   object\n",
      " 4   statement_key  1990 non-null   object\n",
      " 5   created_at     1990 non-null   object\n",
      " 6   updated_at     1990 non-null   object\n",
      " 7   currency       1990 non-null   object\n",
      "dtypes: bool(1), int64(1), object(6)\n",
      "memory usage: 126.3+ KB\n"
     ]
    }
   ],
   "source": [
    "df.info()"
   ]
  },
  {
   "cell_type": "code",
   "execution_count": 16,
   "id": "ef852067",
   "metadata": {},
   "outputs": [
    {
     "name": "stdout",
     "output_type": "stream",
     "text": [
      "Success!\n"
     ]
    }
   ],
   "source": [
    "path = r\"Q:\\Harvest\\clients\\harvest_clients.csv\"\n",
    "df.to_csv(path, na_rep='NULL', index=False)\n",
    "print('Success!')"
   ]
  },
  {
   "cell_type": "code",
   "execution_count": null,
   "id": "44f963d9",
   "metadata": {},
   "outputs": [],
   "source": []
  }
 ],
 "metadata": {
  "kernelspec": {
   "display_name": "Python 3.9.7 ('my_env')",
   "language": "python",
   "name": "python3"
  },
  "language_info": {
   "codemirror_mode": {
    "name": "ipython",
    "version": 3
   },
   "file_extension": ".py",
   "mimetype": "text/x-python",
   "name": "python",
   "nbconvert_exporter": "python",
   "pygments_lexer": "ipython3",
   "version": "3.9.7"
  },
  "vscode": {
   "interpreter": {
    "hash": "39e333b4574b36a5fa513bcea6e72fe1311c56eee2b59ba424a363a956686ac4"
   }
  }
 },
 "nbformat": 4,
 "nbformat_minor": 5
}
