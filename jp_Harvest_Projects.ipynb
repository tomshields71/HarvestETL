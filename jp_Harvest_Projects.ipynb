{
 "cells": [
  {
   "cell_type": "code",
   "execution_count": 1,
   "id": "38ec6395",
   "metadata": {},
   "outputs": [],
   "source": [
    "\n",
    "import json\n",
    "import urllib.request\n",
    "from p_config import HARVEST_ACCOUNT_ID, ACCESS_TOKEN\n",
    "import pandas as pd"
   ]
  },
  {
   "cell_type": "code",
   "execution_count": 2,
   "id": "315dc66a",
   "metadata": {},
   "outputs": [],
   "source": [
    "url = \"https://api.harvestapp.com/v2/projects\"\n",
    "headers = {\n",
    "    \"User-Agent\": \"Python Harvest API Sample\",\n",
    "    \"Authorization\": \"Bearer \" + ACCESS_TOKEN,\n",
    "    \"Harvest-Account-ID\": HARVEST_ACCOUNT_ID\n",
    "}"
   ]
  },
  {
   "cell_type": "code",
   "execution_count": 3,
   "id": "134f85e2",
   "metadata": {},
   "outputs": [],
   "source": [
    "request = urllib.request.Request(url=url, headers=headers)\n",
    "response = urllib.request.urlopen(request, timeout=5)\n",
    "responseBody = response.read().decode(\"utf-8\")\n",
    "jsonResponse = json.loads(responseBody)"
   ]
  },
  {
   "cell_type": "code",
   "execution_count": 4,
   "id": "f693f5a5",
   "metadata": {},
   "outputs": [],
   "source": [
    "proj_data = jsonResponse['projects']\n",
    "\n",
    "\n",
    "df = pd.DataFrame()\n",
    "\n",
    "for d in proj_data:\n",
    "    df = pd.concat([df, pd.DataFrame(d)])\n",
    "\n"
   ]
  },
  {
   "cell_type": "code",
   "execution_count": 5,
   "id": "579bea58",
   "metadata": {},
   "outputs": [],
   "source": [
    "df = df[df.index =='id']"
   ]
  },
  {
   "cell_type": "code",
   "execution_count": 6,
   "id": "0e5d0c6d",
   "metadata": {},
   "outputs": [],
   "source": [
    "df = df.replace(',','', regex=True)"
   ]
  },
  {
   "cell_type": "code",
   "execution_count": null,
   "id": "1a71e69f",
   "metadata": {},
   "outputs": [],
   "source": []
  },
  {
   "cell_type": "code",
   "execution_count": 8,
   "id": "3f3db26f",
   "metadata": {},
   "outputs": [
    {
     "name": "stdout",
     "output_type": "stream",
     "text": [
      "<class 'pandas.core.frame.DataFrame'>\n",
      "Index: 815 entries, id to id\n",
      "Data columns (total 24 columns):\n",
      " #   Column                               Non-Null Count  Dtype  \n",
      "---  ------                               --------------  -----  \n",
      " 0   id                                   815 non-null    int64  \n",
      " 1   name                                 815 non-null    object \n",
      " 2   code                                 814 non-null    object \n",
      " 3   is_active                            815 non-null    bool   \n",
      " 4   is_billable                          815 non-null    bool   \n",
      " 5   is_fixed_fee                         815 non-null    bool   \n",
      " 6   bill_by                              815 non-null    object \n",
      " 7   budget                               1 non-null      float64\n",
      " 8   budget_by                            815 non-null    object \n",
      " 9   budget_is_monthly                    815 non-null    bool   \n",
      " 10  notify_when_over_budget              815 non-null    bool   \n",
      " 11  over_budget_notification_percentage  815 non-null    float64\n",
      " 12  show_budget_to_all                   815 non-null    bool   \n",
      " 13  created_at                           815 non-null    object \n",
      " 14  updated_at                           815 non-null    object \n",
      " 15  starts_on                            0 non-null      object \n",
      " 16  ends_on                              0 non-null      object \n",
      " 17  over_budget_notification_date        0 non-null      object \n",
      " 18  notes                                815 non-null    object \n",
      " 19  cost_budget                          0 non-null      object \n",
      " 20  cost_budget_include_expenses         815 non-null    bool   \n",
      " 21  hourly_rate                          1 non-null      float64\n",
      " 22  fee                                  0 non-null      object \n",
      " 23  client                               815 non-null    int64  \n",
      "dtypes: bool(7), float64(3), int64(2), object(12)\n",
      "memory usage: 120.2+ KB\n"
     ]
    }
   ],
   "source": [
    "df.info()"
   ]
  },
  {
   "cell_type": "code",
   "execution_count": 9,
   "id": "ef852067",
   "metadata": {},
   "outputs": [
    {
     "name": "stdout",
     "output_type": "stream",
     "text": [
      "Success!\n"
     ]
    }
   ],
   "source": [
    "path = r\"Q:\\Harvest\\projects\\harvest_projects.csv\"\n",
    "df.to_csv(path, na_rep='NULL', index=False)\n",
    "print('Success!')"
   ]
  },
  {
   "cell_type": "code",
   "execution_count": null,
   "id": "44f963d9",
   "metadata": {},
   "outputs": [],
   "source": []
  }
 ],
 "metadata": {
  "kernelspec": {
   "display_name": "Python 3.9.7 ('my_env')",
   "language": "python",
   "name": "python3"
  },
  "language_info": {
   "codemirror_mode": {
    "name": "ipython",
    "version": 3
   },
   "file_extension": ".py",
   "mimetype": "text/x-python",
   "name": "python",
   "nbconvert_exporter": "python",
   "pygments_lexer": "ipython3",
   "version": "3.9.7"
  },
  "vscode": {
   "interpreter": {
    "hash": "39e333b4574b36a5fa513bcea6e72fe1311c56eee2b59ba424a363a956686ac4"
   }
  }
 },
 "nbformat": 4,
 "nbformat_minor": 5
}
